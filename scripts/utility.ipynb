{
 "cells": [
  {
   "cell_type": "markdown",
   "metadata": {},
   "source": [
    "## Count how many comparisons developers have made"
   ]
  },
  {
   "cell_type": "code",
   "execution_count": null,
   "metadata": {},
   "outputs": [],
   "source": [
    "import database\n",
    "\n",
    "THRESHOLD = 1\n",
    "PROJECT='torvalds-linux'\n",
    "\n",
    "num_participants = 0\n",
    "num_answers = 0\n",
    "for c in database.stats_compared(PROJECT):\n",
    "    if c[1] >= THRESHOLD:\n",
    "        num_participants += 1\n",
    "        num_answers += c[1]\n",
    "        print(c[0], c[1])\n",
    "print('# participants: %d\\t# answers: %d' % (num_participants, num_answers))"
   ]
  },
  {
   "cell_type": "code",
   "execution_count": null,
   "metadata": {},
   "outputs": [],
   "source": [
    "import database\n",
    "\n",
    "PROJECT='torvalds-linux'\n",
    "LINK='https://github.com/torvalds/linux/commit/'\n",
    "\n",
    "comparisons = [c for c in database.list_compared(PROJECT)]\n",
    "comparisons = sorted(comparisons, key=lambda x: x['commit1'])\n",
    "for c in comparisons:\n",
    "    print(LINK + c['commit1'], LINK + c['commit2'], c['reason'], sep='\\t')"
   ]
  },
  {
   "cell_type": "code",
   "execution_count": null,
   "metadata": {},
   "outputs": [],
   "source": [
    "import database\n",
    "import random\n",
    "\n",
    "PROJECT='torvalds-linux'\n",
    "LINK='https://github.com/torvalds/linux/commit/'\n",
    "\n",
    "comparisons = [c for c in database.list_compared(PROJECT)]\n",
    "comparisons = sorted(comparisons, key=lambda x: x['commit1'])\n",
    "for c in comparisons:\n",
    "    if random.random() < 0.5:\n",
    "        print(LINK + c['commit1'], LINK + c['commit2'], 0, sep='\\t')\n",
    "    else:\n",
    "        print(LINK + c['commit2'], LINK + c['commit1'], 1, sep='\\t')"
   ]
  },
  {
   "cell_type": "code",
   "execution_count": null,
   "metadata": {},
   "outputs": [],
   "source": [
    "import common\n",
    "import database\n",
    "\n",
    "PROJECT='torvalds-linux'\n",
    "\n",
    "commit2desc = dict()\n",
    "commit2title = dict()\n",
    "\n",
    "\n",
    "def add_to_dict(commit, title, desc):\n",
    "    if commit not in commit2desc:\n",
    "        commit2desc[commit] = [desc]\n",
    "    elif desc not in commit2desc[commit]:\n",
    "        commit2desc[commit].append(desc)\n",
    "    \n",
    "    if commit not in commit2title:\n",
    "        commit2title[commit] = title\n",
    "    else:\n",
    "        assert commit2title[commit] == title\n",
    "\n",
    "\n",
    "for c in database.list_compared(PROJECT):\n",
    "    d1, d2 = common.parse_descriptions(c['reason'])\n",
    "    add_to_dict(c['commit1'], c['title1'], '(+) ' + d1)\n",
    "    add_to_dict(c['commit2'], c['title2'], '(-) ' + d2)\n",
    "    \n",
    "for i in commit2desc.items():\n",
    "    print(i[0], commit2title[i[0]], i[1], sep='\\t')"
   ]
  },
  {
   "cell_type": "code",
   "execution_count": null,
   "metadata": {},
   "outputs": [],
   "source": [
    "import database\n",
    "\n",
    "COMMIT = 'b1fa4dc4ffef843bda17f26bbf54fb5d8bc23d2b'\n",
    "\n",
    "\n",
    "for i, a in enumerate(database.get_related_answers(COMMIT)):\n",
    "    print('[%d] %s (%s)\\t%s\\t%s (%s)' %\n",
    "          (i, a['commit1'], a['title1'], a['reason'], a['commit2'], a['title2']))"
   ]
  },
  {
   "cell_type": "code",
   "execution_count": null,
   "metadata": {},
   "outputs": [],
   "source": []
  }
 ],
 "metadata": {
  "kernelspec": {
   "display_name": "Python 3",
   "language": "python",
   "name": "python3"
  },
  "language_info": {
   "codemirror_mode": {
    "name": "ipython",
    "version": 3
   },
   "file_extension": ".py",
   "mimetype": "text/x-python",
   "name": "python",
   "nbconvert_exporter": "python",
   "pygments_lexer": "ipython3",
   "version": "3.6.3"
  }
 },
 "nbformat": 4,
 "nbformat_minor": 2
}
