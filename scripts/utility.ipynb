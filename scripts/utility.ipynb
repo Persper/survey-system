{
 "cells": [
  {
   "cell_type": "markdown",
   "metadata": {},
   "source": [
    "### Count how many comparisons developers have made"
   ]
  },
  {
   "cell_type": "code",
   "execution_count": null,
   "metadata": {},
   "outputs": [],
   "source": [
    "import database\n",
    "\n",
    "THRESHOLD = 10\n",
    "PROJECT='torvalds-linux'\n",
    "\n",
    "num_participants = 0\n",
    "num_answers = 0\n",
    "for c in database.stats_compared(PROJECT):\n",
    "    if c[1] >= THRESHOLD:\n",
    "        num_participants += 1\n",
    "        num_answers += c[1]\n",
    "        print(c[0], c[1])\n",
    "print('# participants: %d\\t# answers: %d' % (num_participants, num_answers))"
   ]
  },
  {
   "cell_type": "markdown",
   "metadata": {},
   "source": [
    "### List compared pairs along with the reasons"
   ]
  },
  {
   "cell_type": "markdown",
   "metadata": {},
   "source": [
    "#### For individual projects"
   ]
  },
  {
   "cell_type": "code",
   "execution_count": null,
   "metadata": {},
   "outputs": [],
   "source": [
    "import database\n",
    "\n",
    "PROJECT='torvalds-linux'\n",
    "LINK='https://github.com/torvalds/linux/commit/'\n",
    "\n",
    "comparisons = [c for c in database.list_project_compared(PROJECT)]\n",
    "comparisons = sorted(comparisons, key=lambda x: x['commit1'])\n",
    "for c in comparisons:\n",
    "    print(LINK + c['commit1'], LINK + c['commit2'], c['reason'], sep='\\t')"
   ]
  },
  {
   "cell_type": "markdown",
   "metadata": {},
   "source": [
    "#### For all projects"
   ]
  },
  {
   "cell_type": "code",
   "execution_count": null,
   "metadata": {},
   "outputs": [],
   "source": [
    "from common import github_commit_url\n",
    "import database\n",
    "\n",
    "comparisons = [c for c in database.list_compared()]\n",
    "comparisons = sorted(comparisons, key=lambda x: x['commit1'])\n",
    "\n",
    "n_self = 0\n",
    "n_other = 0\n",
    "with open('js_all_comparisons.csv', 'w') as f:\n",
    "    for c in comparisons:\n",
    "        if c['author'] == c['email']:\n",
    "            n_self += 1\n",
    "        else:\n",
    "            n_other += 1\n",
    "        url1 = github_commit_url(c['project'], c['commit1'], True)\n",
    "        url2 = github_commit_url(c['project'], c['commit2'], True)\n",
    "        print(c['project'], c['author'], url1, c['title1'], c['email'],\n",
    "              url2, c['title2'], c['reason'], sep='\\t', file=f)\n",
    "        \n",
    "    print('# self comparisons:\\t%d' % n_self)\n",
    "    print('# other comparisons:\\t%d' % n_other)"
   ]
  },
  {
   "cell_type": "markdown",
   "metadata": {},
   "source": [
    "### List individual commits and their reviews"
   ]
  },
  {
   "cell_type": "markdown",
   "metadata": {},
   "source": [
    "#### For individual projects"
   ]
  },
  {
   "cell_type": "code",
   "execution_count": null,
   "metadata": {},
   "outputs": [],
   "source": [
    "import common\n",
    "import database\n",
    "\n",
    "PROJECT='torvalds-linux'\n",
    "\n",
    "commit2desc = dict()\n",
    "commit2title = dict()\n",
    "\n",
    "\n",
    "def add_to_dict(commit, title, desc):\n",
    "    if commit not in commit2desc:\n",
    "        commit2desc[commit] = [desc]\n",
    "    elif desc not in commit2desc[commit]:\n",
    "        commit2desc[commit].append(desc)\n",
    "    \n",
    "    if commit not in commit2title:\n",
    "        commit2title[commit] = title\n",
    "    else:\n",
    "        assert commit2title[commit] == title\n",
    "\n",
    "\n",
    "for c in database.list_compared():\n",
    "    d1, d2 = common.parse_descriptions(c['reason'])\n",
    "    add_to_dict(c['commit1'], c['title1'], '(+) ' + d1)\n",
    "    add_to_dict(c['commit2'], c['title2'], '(-) ' + d2)\n",
    "    \n",
    "for i in commit2desc.items():\n",
    "    print(i[0], commit2title[i[0]], i[1], sep='\\t')"
   ]
  },
  {
   "cell_type": "markdown",
   "metadata": {},
   "source": [
    "#### For all projects"
   ]
  },
  {
   "cell_type": "code",
   "execution_count": null,
   "metadata": {},
   "outputs": [],
   "source": [
    "import common\n",
    "import database\n",
    "\n",
    "url2info = dict()\n",
    "\n",
    "\n",
    "def add_to_dict(url, title, desc, self: bool):\n",
    "    if url not in url2info:\n",
    "        url2info[url] = dict()\n",
    "    info = url2info[url]\n",
    "    \n",
    "    if 'title' not in info:\n",
    "        info['title'] = title\n",
    "    else:\n",
    "        assert info['title'] == title\n",
    "    \n",
    "    if 'self' not in info:\n",
    "        info['self'] = []\n",
    "    if 'other' not in info:\n",
    "        info['other'] = []\n",
    "    \n",
    "    if self:\n",
    "        for d in info['self']:\n",
    "            if d[4:] == desc[4:]:\n",
    "                desc = d[:4] + desc\n",
    "                info['self'].remove(d)\n",
    "                info['self'].append(desc)\n",
    "                return\n",
    "        info['self'].append(desc)\n",
    "    else:\n",
    "        for d in info['other']:\n",
    "            if d[4:] == desc[4:]:\n",
    "                desc = d[:4] + desc\n",
    "                info['other'].remove(d)\n",
    "                info['other'].append(desc)\n",
    "                return\n",
    "        info['other'].append(desc)\n",
    "\n",
    "\n",
    "for c in database.list_compared():\n",
    "    d1, d2 = common.parse_descriptions(c['reason'])\n",
    "    url1 = common.github_commit_url(c['project'], c['commit1'], True)\n",
    "    url2 = common.github_commit_url(c['project'], c['commit2'], True)\n",
    "    add_to_dict(url1, c['title1'], '(+) ' + d1, c['author'] == c['email'])\n",
    "    add_to_dict(url2, c['title2'], '(-) ' + d2, c['author'] == c['email'])\n",
    "\n",
    "with open('js_commit_list.csv', 'w') as f:\n",
    "    for url, info in url2info.items():\n",
    "        print(url, info['title'], info['self'], info['other'], sep='\\t', file=f)"
   ]
  },
  {
   "cell_type": "code",
   "execution_count": null,
   "metadata": {},
   "outputs": [],
   "source": []
  }
 ],
 "metadata": {
  "kernelspec": {
   "display_name": "Python 3",
   "language": "python",
   "name": "python3"
  },
  "language_info": {
   "codemirror_mode": {
    "name": "ipython",
    "version": 3
   },
   "file_extension": ".py",
   "mimetype": "text/x-python",
   "name": "python",
   "nbconvert_exporter": "python",
   "pygments_lexer": "ipython3",
   "version": "3.6.5"
  }
 },
 "nbformat": 4,
 "nbformat_minor": 2
}
